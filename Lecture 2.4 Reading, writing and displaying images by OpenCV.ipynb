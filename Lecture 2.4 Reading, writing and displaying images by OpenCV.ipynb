{
 "cells": [
  {
   "cell_type": "markdown",
   "metadata": {},
   "source": [
    "## Reading, writing and displaying images"
   ]
  },
  {
   "cell_type": "code",
   "execution_count": 2,
   "metadata": {
    "collapsed": true
   },
   "outputs": [],
   "source": [
    "import cv2"
   ]
  },
  {
   "cell_type": "code",
   "execution_count": 3,
   "metadata": {
    "collapsed": true
   },
   "outputs": [],
   "source": [
    "import numpy as np"
   ]
  },
  {
   "cell_type": "code",
   "execution_count": 2,
   "metadata": {
    "collapsed": false
   },
   "outputs": [],
   "source": [
    "# Load first image\n",
    "# Don't need to load library again but, it's a good habit\n",
    "\n",
    "import cv2\n",
    "import numpy as np\n",
    "\n",
    "# Load an image using the speciafying image path\n",
    "input = cv2.imread('./images/image.jpg')\n",
    "\n",
    "# The file 'image.jpg' is loaded to input variable in python\n",
    "\n",
    "\n",
    "# To display image, use 'imshow'\n",
    "cv2.imshow('Hello wolrd', input)\n",
    "\n",
    "# 'waitKey' allow show input information when image window open\n",
    "# Leaving a blank key -> wait for any key press\n",
    "# Insert number (milisecond) to specify a delay for how long the window opens.\n",
    "cv2.waitKey(3000)\n",
    "\n",
    "# Make sure to insert this line\n",
    "# to close all windows open. Unless, the image window will cause to hang.\n",
    "cv2.destroyAllWindows()"
   ]
  },
  {
   "cell_type": "markdown",
   "metadata": {},
   "source": [
    "## Take a look, how images are stored"
   ]
  },
  {
   "cell_type": "code",
   "execution_count": 3,
   "metadata": {
    "collapsed": false
   },
   "outputs": [
    {
     "name": "stdout",
     "output_type": "stream",
     "text": [
      "(959L, 719L, 3L)\n"
     ]
    }
   ],
   "source": [
    "import numpy as np\n",
    "print input.shape"
   ]
  },
  {
   "cell_type": "markdown",
   "metadata": {},
   "source": [
    "**input has 3 dimensionals**:\n",
    "\n",
    "- Height = 959 pixels\n",
    "- Width = 719 pixels\n",
    "- Color = 3 colors (RGB)"
   ]
  },
  {
   "cell_type": "markdown",
   "metadata": {},
   "source": [
    "## Save images to file"
   ]
  },
  {
   "cell_type": "code",
   "execution_count": 5,
   "metadata": {
    "collapsed": false
   },
   "outputs": [
    {
     "data": {
      "text/plain": [
       "True"
      ]
     },
     "execution_count": 5,
     "metadata": {},
     "output_type": "execute_result"
    }
   ],
   "source": [
    "import cv2\n",
    "cv2.imwrite('./images/output.jpg', input)\n",
    "cv2.imwrite('./images/output.png', input)"
   ]
  },
  {
   "cell_type": "code",
   "execution_count": null,
   "metadata": {
    "collapsed": true
   },
   "outputs": [],
   "source": []
  }
 ],
 "metadata": {
  "anaconda-cloud": {},
  "kernelspec": {
   "display_name": "Python [conda root]",
   "language": "python",
   "name": "conda-root-py"
  },
  "language_info": {
   "codemirror_mode": {
    "name": "ipython",
    "version": 2
   },
   "file_extension": ".py",
   "mimetype": "text/x-python",
   "name": "python",
   "nbconvert_exporter": "python",
   "pygments_lexer": "ipython2",
   "version": "2.7.13"
  }
 },
 "nbformat": 4,
 "nbformat_minor": 1
}
