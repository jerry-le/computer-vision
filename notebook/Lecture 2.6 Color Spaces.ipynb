{
 "cells": [
  {
   "cell_type": "markdown",
   "metadata": {},
   "source": [
    "# Color Spaces"
   ]
  },
  {
   "cell_type": "markdown",
   "metadata": {},
   "source": [
    "There are several types of image color channel like: **RGB (Red, Green, Blue)**, **HSV (Hue, Saturation, Value)**, **CMYK (cyan, magenta, yellow, and key (black)**\n",
    "\n",
    "### The computer stores image in RGB, but in OpenCV stored in BGR (quite annoying)"
   ]
  },
  {
   "cell_type": "code",
   "execution_count": 1,
   "metadata": {
    "collapsed": true
   },
   "outputs": [],
   "source": [
    "import cv2\n",
    "import numpy as np\n",
    "\n",
    "image = cv2.imread('./images/image.jpg')"
   ]
  },
  {
   "cell_type": "markdown",
   "metadata": {},
   "source": [
    "## Color filtering HSV"
   ]
  },
  {
   "cell_type": "code",
   "execution_count": 4,
   "metadata": {
    "collapsed": true
   },
   "outputs": [],
   "source": [
    "image = cv2.imread('./images/image.jpg')\n",
    "hsv_image = cv2.cvtColor(image, cv2.COLOR_BGR2HSV)\n",
    "\n",
    "# cv2.imshow('HVS image', hsv_image)\n",
    "# cv2.imshow('Hue channel', hsv_image[:, :, 0])\n",
    "# cv2.imshow('Saturation channel', hsv_image[:, :, 1])\n",
    "# cv2.imshow('Value channel', hsv_image[:, :, 2])\n",
    "# cv2.waitKey()\n",
    "# cv2.destroyAllWindows()"
   ]
  },
  {
   "cell_type": "code",
   "execution_count": 2,
   "metadata": {},
   "outputs": [],
   "source": [
    "image = cv2.imread('./images/image.jpg')"
   ]
  },
  {
   "cell_type": "markdown",
   "metadata": {},
   "source": [
    "## Individual channel in RGB image "
   ]
  },
  {
   "cell_type": "code",
   "execution_count": 21,
   "metadata": {},
   "outputs": [
    {
     "name": "stdout",
     "output_type": "stream",
     "text": [
      "[[168 168 168 ...,  21  22  22]\n",
      " [169 168 168 ...,  21  22  22]\n",
      " [169 169 168 ...,  21  22  22]\n",
      " ..., \n",
      " [164 162 161 ..., 155 153 151]\n",
      " [164 161 161 ..., 155 153 151]\n",
      " [163 161 160 ..., 154 153 152]]\n",
      "[[173 173 173 ...,  19  20  20]\n",
      " [174 173 173 ...,  19  20  20]\n",
      " [174 174 173 ...,  19  20  20]\n",
      " ..., \n",
      " [131 131 130 ..., 123 122 120]\n",
      " [131 130 130 ..., 124 122 121]\n",
      " [130 130 129 ..., 123 123 123]]\n"
     ]
    }
   ],
   "source": [
    "image = cv2.imread('./images/image.jpg')\n",
    "\n",
    "B, G, R = cv2.split(image)\n",
    "print B\n",
    "print G\n",
    "\n",
    "cv2.imshow('Blue image', B)\n",
    "cv2.imshow('Green image', G)\n",
    "cv2.imshow('Red image', R)\n",
    "cv2.waitKey()\n",
    "cv2.destroyAllWindows()"
   ]
  },
  {
   "cell_type": "code",
   "execution_count": null,
   "metadata": {
    "collapsed": true
   },
   "outputs": [],
   "source": []
  }
 ],
 "metadata": {
  "anaconda-cloud": {},
  "kernelspec": {
   "display_name": "Python 2",
   "language": "python",
   "name": "python2"
  },
  "language_info": {
   "codemirror_mode": {
    "name": "ipython",
    "version": 2
   },
   "file_extension": ".py",
   "mimetype": "text/x-python",
   "name": "python",
   "nbconvert_exporter": "python",
   "pygments_lexer": "ipython2",
   "version": "2.7.13"
  }
 },
 "nbformat": 4,
 "nbformat_minor": 1
}
