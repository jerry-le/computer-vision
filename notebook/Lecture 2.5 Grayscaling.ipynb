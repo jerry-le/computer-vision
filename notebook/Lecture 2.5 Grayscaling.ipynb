{
 "cells": [
  {
   "cell_type": "markdown",
   "metadata": {},
   "source": [
    "## Grayscaling"
   ]
  },
  {
   "cell_type": "markdown",
   "metadata": {},
   "source": [
    "**Grayscaling is process by which image is converted from full color to gray color (black and white)**\n",
    "\n",
    "Why we should grayscale an image?\n",
    "\n",
    "Read this: [link](https://www.quora.com/In-image-processing-applications-why-do-we-convert-from-RGB-to-Grayscale)"
   ]
  },
  {
   "cell_type": "code",
   "execution_count": null,
   "metadata": {},
   "outputs": [],
   "source": [
    "import cv2\n",
    "\n",
    "# Load input image\n",
    "image = cv2.imread('../images/image.jpg')\n",
    "# cv2.imshow('Image name', image)\n",
    "# cv2.waitKey()\n",
    "# cv2.destroyAllWindows()\n",
    "\n",
    "# Use 'cvtColor' to convert to gray color\n",
    "gray_image = cv2.cvtColor(image, cv2.COLOR_BGR2GRAY)\n",
    "cv2.imshow('gray image', gray_image)\n",
    "cv2.waitKey()\n",
    "cv2.destroyAllWindows()"
   ]
  },
  {
   "cell_type": "markdown",
   "metadata": {},
   "source": [
    "We can see, image (full color RBG) is an 3 array dimensionals. \n",
    "```code\n",
    "[ -> this is height = 959 records\n",
    "    [ -> this is width = 719 records\n",
    "        [ -> and this is color. (3 element)\n",
    "            BLUE, GREEN, RED\n",
    "        ]\n",
    "    ]\n",
    "]\n",
    "```"
   ]
  },
  {
   "cell_type": "markdown",
   "metadata": {},
   "source": [
    "### Convert RGB image to R/G/B image"
   ]
  },
  {
   "cell_type": "code",
   "execution_count": 2,
   "metadata": {
    "collapsed": true
   },
   "outputs": [],
   "source": [
    "import cv2\n",
    "import numpy as np\n",
    "\n",
    "image = cv2.imread('./images/image.jpg')"
   ]
  },
  {
   "cell_type": "markdown",
   "metadata": {},
   "source": [
    "- An BGR image is a 3 dimensionals array when load by openCV\n",
    "- The Order flows: Blue,Green,Red by default\n",
    "- To convert from full BGR image to Blue/Green/Red, we just need to set the rest colors in each cell to zero:\n",
    "    - (x, 0, 0) -> Blue\n",
    "    - (0, x, 0) -> Green\n",
    "    - (0, 0, x) -> Red\n"
   ]
  },
  {
   "cell_type": "code",
   "execution_count": 3,
   "metadata": {
    "collapsed": true
   },
   "outputs": [],
   "source": [
    "# First create an 2 dimensional array has only zeros value"
   ]
  },
  {
   "cell_type": "code",
   "execution_count": 4,
   "metadata": {
    "collapsed": true
   },
   "outputs": [],
   "source": [
    "muted = [np.zeros(image.shape[0])]\n",
    "muted = np.array(muted, np.int32)"
   ]
  },
  {
   "cell_type": "code",
   "execution_count": 5,
   "metadata": {
    "collapsed": true
   },
   "outputs": [],
   "source": [
    "# Image is mutabe object => Copy image to new one"
   ]
  },
  {
   "cell_type": "code",
   "execution_count": 6,
   "metadata": {
    "collapsed": true
   },
   "outputs": [],
   "source": [
    "red_image = np.copy(image)\n",
    "green_image = np.copy(image)\n",
    "blue_image = np.copy(image)"
   ]
  },
  {
   "cell_type": "code",
   "execution_count": 7,
   "metadata": {
    "collapsed": true
   },
   "outputs": [],
   "source": [
    "# Using slice"
   ]
  },
  {
   "cell_type": "code",
   "execution_count": 12,
   "metadata": {
    "collapsed": true
   },
   "outputs": [],
   "source": [
    "red_image[:,:,0] = 0\n",
    "red_image[:,:,1] = 0\n",
    "cv2.imshow('red', red_image)\n",
    "cv2.waitKey(5000)\n",
    "cv2.destroyAllWindows()"
   ]
  },
  {
   "cell_type": "code",
   "execution_count": 13,
   "metadata": {
    "collapsed": true
   },
   "outputs": [],
   "source": [
    "green_image[:,:,0] = 0\n",
    "green_image[:,:,2] = 0\n",
    "cv2.imshow('green', green_image)\n",
    "cv2.waitKey()\n",
    "cv2.destroyAllWindows()"
   ]
  },
  {
   "cell_type": "code",
   "execution_count": 14,
   "metadata": {
    "collapsed": true
   },
   "outputs": [],
   "source": [
    "blue_image[:,:,1] = 0\n",
    "blue_image[:,:,2] = 0\n",
    "cv2.imshow('blue', blue_image)\n",
    "cv2.waitKey(5000)\n",
    "cv2.destroyAllWindows()"
   ]
  },
  {
   "cell_type": "markdown",
   "metadata": {},
   "source": [
    "## Another way to convert from BGR image to gray image"
   ]
  },
  {
   "cell_type": "code",
   "execution_count": 12,
   "metadata": {
    "collapsed": true
   },
   "outputs": [],
   "source": [
    "import cv2\n",
    "image = cv2.imread('./images/image.jpg', 0) # We can use 2 here.\n",
    "cv2.imshow('Gray image', image)\n",
    "cv2.waitKey()\n",
    "cv2.destroyAllWindows()"
   ]
  }
 ],
 "metadata": {
  "anaconda-cloud": {},
  "kernelspec": {
   "display_name": "Python 2",
   "language": "python",
   "name": "python2"
  },
  "language_info": {
   "codemirror_mode": {
    "name": "ipython",
    "version": 2
   },
   "file_extension": ".py",
   "mimetype": "text/x-python",
   "name": "python",
   "nbconvert_exporter": "python",
   "pygments_lexer": "ipython2",
   "version": "2.7.13"
  }
 },
 "nbformat": 4,
 "nbformat_minor": 1
}
