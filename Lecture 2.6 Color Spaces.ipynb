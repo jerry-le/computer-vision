{
 "cells": [
  {
   "cell_type": "markdown",
   "metadata": {},
   "source": [
    "# Color Spaces"
   ]
  },
  {
   "cell_type": "markdown",
   "metadata": {},
   "source": [
    "There are several types of image color channel like: **RGB (Red, Green, Blue)**, **HSV (Hue, Saturation, Value)**, **CMYK (cyan, magenta, yellow, and key (black)**\n",
    "\n",
    "### The computer stores image in RGB, but in OpenCV stored in BGR (quite annoying)"
   ]
  },
  {
   "cell_type": "code",
   "execution_count": 1,
   "metadata": {
    "collapsed": true
   },
   "outputs": [],
   "source": [
    "import cv2\n",
    "import numpy as np\n",
    "\n",
    "image = cv2.imread('./images/image.jpg')"
   ]
  },
  {
   "cell_type": "markdown",
   "metadata": {},
   "source": [
    "## Color filtering HSV"
   ]
  },
  {
   "cell_type": "code",
   "execution_count": 4,
   "metadata": {
    "collapsed": true
   },
   "outputs": [],
   "source": [
    "image = cv2.imread('./images/image.jpg')\n",
    "hsv_image = cv2.cvtColor(image, cv2.COLOR_BGR2HSV)\n",
    "\n",
    "# cv2.imshow('HVS image', hsv_image)\n",
    "# cv2.imshow('Hue channel', hsv_image[:, :, 0])\n",
    "# cv2.imshow('Saturation channel', hsv_image[:, :, 1])\n",
    "# cv2.imshow('Value channel', hsv_image[:, :, 2])\n",
    "# cv2.waitKey()\n",
    "# cv2.destroyAllWindows()"
   ]
  },
  {
   "cell_type": "code",
   "execution_count": 13,
   "metadata": {},
   "outputs": [
    {
     "data": {
      "text/plain": [
       "array([[[  8,  27, 188],\n",
       "        [  8,  27, 188],\n",
       "        [  8,  27, 188],\n",
       "        ..., \n",
       "        [ 93, 243,  21],\n",
       "        [ 93, 232,  22],\n",
       "        [ 93, 232,  22]],\n",
       "\n",
       "       [[  8,  27, 189],\n",
       "        [  8,  27, 188],\n",
       "        [  8,  27, 188],\n",
       "        ..., \n",
       "        [ 93, 243,  21],\n",
       "        [ 93, 232,  22],\n",
       "        [ 93, 232,  22]],\n",
       "\n",
       "       [[  8,  27, 189],\n",
       "        [  8,  27, 189],\n",
       "        [  8,  27, 188],\n",
       "        ..., \n",
       "        [ 93, 243,  21],\n",
       "        [ 93, 232,  22],\n",
       "        [ 93, 232,  22]],\n",
       "\n",
       "       ..., \n",
       "       [[124,  51, 164],\n",
       "        [123,  49, 162],\n",
       "        [123,  49, 161],\n",
       "        ..., \n",
       "        [121,  53, 155],\n",
       "        [119,  53, 153],\n",
       "        [117,  57, 151]],\n",
       "\n",
       "       [[124,  51, 164],\n",
       "        [123,  49, 161],\n",
       "        [123,  49, 161],\n",
       "        ..., \n",
       "        [119,  53, 155],\n",
       "        [117,  57, 153],\n",
       "        [116,  59, 151]],\n",
       "\n",
       "       [[124,  52, 163],\n",
       "        [123,  49, 161],\n",
       "        [123,  49, 160],\n",
       "        ..., \n",
       "        [117,  56, 154],\n",
       "        [116,  58, 153],\n",
       "        [114,  60, 152]]], dtype=uint8)"
      ]
     },
     "execution_count": 13,
     "metadata": {},
     "output_type": "execute_result"
    }
   ],
   "source": [
    "hsv_image"
   ]
  },
  {
   "cell_type": "code",
   "execution_count": 16,
   "metadata": {},
   "outputs": [
    {
     "data": {
      "text/plain": [
       "array([[[168, 173, 188],\n",
       "        [168, 173, 188],\n",
       "        [168, 173, 188],\n",
       "        ..., \n",
       "        [ 21,  19,   1],\n",
       "        [ 22,  20,   2],\n",
       "        [ 22,  20,   2]],\n",
       "\n",
       "       [[169, 174, 189],\n",
       "        [168, 173, 188],\n",
       "        [168, 173, 188],\n",
       "        ..., \n",
       "        [ 21,  19,   1],\n",
       "        [ 22,  20,   2],\n",
       "        [ 22,  20,   2]],\n",
       "\n",
       "       [[169, 174, 189],\n",
       "        [169, 174, 189],\n",
       "        [168, 173, 188],\n",
       "        ..., \n",
       "        [ 21,  19,   1],\n",
       "        [ 22,  20,   2],\n",
       "        [ 22,  20,   2]],\n",
       "\n",
       "       ..., \n",
       "       [[164, 131, 135],\n",
       "        [162, 131, 134],\n",
       "        [161, 130, 133],\n",
       "        ..., \n",
       "        [155, 123, 124],\n",
       "        [153, 122, 121],\n",
       "        [151, 120, 117]],\n",
       "\n",
       "       [[164, 131, 135],\n",
       "        [161, 130, 133],\n",
       "        [161, 130, 133],\n",
       "        ..., \n",
       "        [155, 124, 123],\n",
       "        [153, 122, 119],\n",
       "        [151, 121, 116]],\n",
       "\n",
       "       [[163, 130, 134],\n",
       "        [161, 130, 133],\n",
       "        [160, 129, 132],\n",
       "        ..., \n",
       "        [154, 123, 120],\n",
       "        [153, 123, 118],\n",
       "        [152, 123, 116]]], dtype=uint8)"
      ]
     },
     "execution_count": 16,
     "metadata": {},
     "output_type": "execute_result"
    }
   ],
   "source": [
    "image = cv2.imread('./images/image.jpg')\n",
    "image"
   ]
  },
  {
   "cell_type": "markdown",
   "metadata": {},
   "source": [
    "## Individual channel in RGB image "
   ]
  },
  {
   "cell_type": "code",
   "execution_count": 21,
   "metadata": {},
   "outputs": [
    {
     "name": "stdout",
     "output_type": "stream",
     "text": [
      "[[168 168 168 ...,  21  22  22]\n",
      " [169 168 168 ...,  21  22  22]\n",
      " [169 169 168 ...,  21  22  22]\n",
      " ..., \n",
      " [164 162 161 ..., 155 153 151]\n",
      " [164 161 161 ..., 155 153 151]\n",
      " [163 161 160 ..., 154 153 152]]\n",
      "[[173 173 173 ...,  19  20  20]\n",
      " [174 173 173 ...,  19  20  20]\n",
      " [174 174 173 ...,  19  20  20]\n",
      " ..., \n",
      " [131 131 130 ..., 123 122 120]\n",
      " [131 130 130 ..., 124 122 121]\n",
      " [130 130 129 ..., 123 123 123]]\n"
     ]
    }
   ],
   "source": [
    "image = cv2.imread('./images/image.jpg')\n",
    "\n",
    "B, G, R = cv2.split(image)\n",
    "print B\n",
    "print G\n",
    "\n",
    "cv2.imshow('Blue image', B)\n",
    "cv2.imshow('Green image', G)\n",
    "cv2.imshow('Red image', R)\n",
    "cv2.waitKey()\n",
    "cv2.destroyAllWindows()"
   ]
  },
  {
   "cell_type": "code",
   "execution_count": null,
   "metadata": {
    "collapsed": true
   },
   "outputs": [],
   "source": []
  }
 ],
 "metadata": {
  "anaconda-cloud": {},
  "kernelspec": {
   "display_name": "Python 2",
   "language": "python",
   "name": "python2"
  },
  "language_info": {
   "codemirror_mode": {
    "name": "ipython",
    "version": 2
   },
   "file_extension": ".py",
   "mimetype": "text/x-python",
   "name": "python",
   "nbconvert_exporter": "python",
   "pygments_lexer": "ipython2",
   "version": "2.7.13"
  }
 },
 "nbformat": 4,
 "nbformat_minor": 1
}
